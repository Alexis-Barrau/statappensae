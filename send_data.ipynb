{
 "cells": [
  {
   "cell_type": "code",
   "execution_count": 1,
   "id": "87c50bf3-d5dd-4aef-be03-ae44d6abc7e6",
   "metadata": {},
   "outputs": [],
   "source": [
    "import os\n",
    "import s3fs\n",
    "from tqdm import tqdm"
   ]
  },
  {
   "cell_type": "code",
   "execution_count": 2,
   "id": "100c42a3-6577-46ac-aafb-cc71cefc68cb",
   "metadata": {},
   "outputs": [],
   "source": [
    "# Paramétrage du datalab\n",
    "S3_ENDPOINT_URL = \"https://\" + os.environ[\"AWS_S3_ENDPOINT\"]\n",
    "fs = s3fs.S3FileSystem(client_kwargs={'endpoint_url': S3_ENDPOINT_URL})"
   ]
  },
  {
   "cell_type": "code",
   "execution_count": 3,
   "id": "c3fe8903-ecbb-43e0-a358-819cc25d84b6",
   "metadata": {},
   "outputs": [
    {
     "name": "stderr",
     "output_type": "stream",
     "text": [
      "Uploading: 100%|██████████| 110/110 [03:37<00:00,  1.98s/file]\n"
     ]
    }
   ],
   "source": [
    "# Transmission des données vers le datalab\n",
    "source_directory = 'data_rda'\n",
    "bucket_name = 'maeldieudonne'\n",
    "destination_directory = bucket_name + '/diffusion/'\n",
    "\n",
    "total_files = sum([len(files) for _, _, files in os.walk(source_directory)])\n",
    "progress_bar = tqdm(total=total_files, desc=\"Uploading\", unit=\"file\")\n",
    "\n",
    "for root, dirs, files in os.walk(source_directory):\n",
    "    for file in files:\n",
    "        source_path = os.path.join(root, file)\n",
    "        destination_path = os.path.join(destination_directory, os.path.relpath(source_path, source_directory))\n",
    "        fs.put(source_path, destination_path, content_type='text/csv', encoding='utf-8')\n",
    "        progress_bar.update(1)\n",
    "\n",
    "progress_bar.close()"
   ]
  }
 ],
 "metadata": {
  "kernelspec": {
   "display_name": "Python 3 (ipykernel)",
   "language": "python",
   "name": "python3"
  },
  "language_info": {
   "codemirror_mode": {
    "name": "ipython",
    "version": 3
   },
   "file_extension": ".py",
   "mimetype": "text/x-python",
   "name": "python",
   "nbconvert_exporter": "python",
   "pygments_lexer": "ipython3",
   "version": "3.10.13"
  }
 },
 "nbformat": 4,
 "nbformat_minor": 5
}
