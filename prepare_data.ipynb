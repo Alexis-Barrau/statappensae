{
 "cells": [
  {
   "cell_type": "code",
   "execution_count": 1,
   "id": "2e2bbe65-d900-459f-b496-c315e00de7bb",
   "metadata": {},
   "outputs": [
    {
     "name": "stderr",
     "output_type": "stream",
     "text": [
      "Installing package into ‘/usr/local/lib/R/site-library’\n",
      "(as ‘lib’ is unspecified)\n",
      "\n"
     ]
    }
   ],
   "source": [
    "# Packages\n",
    "install.packages(\"feather\")\n",
    "\n",
    "# Librairies\n",
    "library(aws.s3)\n",
    "library(data.table)\n",
    "library(feather)\n",
    "\n",
    "# Environnement\n",
    "bucket_name <- \"maeldieudonne\""
   ]
  },
  {
   "cell_type": "markdown",
   "id": "897bfc88-cb91-46b6-b755-33b2948e59b8",
   "metadata": {
    "editable": true,
    "slideshow": {
     "slide_type": ""
    },
    "tags": []
   },
   "source": [
    "<h1>Résultats électoraux</h1>\n",
    "\n",
    "plm = 0-1-2 (0 : communes non PLM ; 1 : 45 arrondissements PLM ; 2 : 3 communes entières PLM)  \n",
    "codecommune2 = code de la nouvelle commune de rattachement ou de substitution (au cas statut1999=2,3,4) ou de la commune actuelle (au cas statut1999=1). Le fichier comprend plusieurs lignes par codecommune2 dès lors que plusieurs communes ont fusionné en une seule entre 1943 et 1999.  \n",
    "dep2 = code du nouveau département de rattachement ou de substitution (au cas statut1999=2,3,4) ou du département actuel (au cas statut1999=1)"
   ]
  },
  {
   "cell_type": "code",
   "execution_count": 2,
   "id": "dab0d854-f87e-4e5e-bfe4-2170b6883ae1",
   "metadata": {},
   "outputs": [],
   "source": [
    "object_key <- \"/diffusion/Elections_pres/pres1981comm.feather\"\n",
    "pres1981 <- aws.s3::s3read_using(\n",
    "  FUN = arrow::read_feather,\n",
    "  object = object_key,\n",
    "  bucket = bucket_name,\n",
    "  opts = list(\"region\" = \"\")\n",
    ")\n",
    "pres1981 <- as.data.table(pres1981)"
   ]
  },
  {
   "cell_type": "code",
   "execution_count": 3,
   "id": "b8c6d343-3d29-4357-8646-b4b01a5fcca9",
   "metadata": {},
   "outputs": [],
   "source": [
    "# Recodages\n",
    "candidats <- fread(\"candidats.csv\", header = TRUE)\n",
    "\n",
    "## Participation\n",
    "pres1981[, part := votants/inscrits]\n",
    "pres1981[, partT2 := votantsT2/inscritsT2]\n",
    "\n",
    "## Droite / gauche\n",
    "T1mask <- candidats[DrGau == \"G\", .(variable = paste0(\"voix\", Candidat))]\n",
    "pres1981[, GD_ratio_T1 := rowSums(.SD, na.rm = TRUE) / exprimes, .SDcols = T1mask$variable]\n",
    "\n",
    "T2mask <- candidats[DrGau == \"G\", .(variable = paste0(\"voixT2\", Candidat))]\n",
    "T2candidates <- intersect(T2mask$variable, names(pres1981))\n",
    "pres1981[, GD_ratio_T2 := rowSums(.SD, na.rm = TRUE) / exprimesT2, .SDcols = T2candidates]\n",
    "\n",
    "## Libéralisme culturel / conservatisme moral\n",
    "T1mask <- candidats[LibCons == \"L\", .(variable = paste0(\"voix\", Candidat))]\n",
    "pres1981[, lib_ratio_T1 := rowSums(.SD, na.rm = TRUE) / exprimes, .SDcols = T1mask$variable]"
   ]
  },
  {
   "cell_type": "code",
   "execution_count": 4,
   "id": "3c1c6d62-fec9-42de-9cc6-3e0036d15daf",
   "metadata": {},
   "outputs": [],
   "source": [
    "# Nettoyage\n",
    "prefixes_to_drop <- c(\"exprimes\", \"inscrits\", \"nom\", \"pervote\", \"ppar\", \"pvoix\", \"pvote\", \"voix\", \"vot\")\n",
    "pres1981 <- pres1981[, .SD, .SDcols = setdiff(names(pres1981), grep(paste0(\"^\", paste(prefixes_to_drop, collapse = \"|\")), names(pres1981), value = TRUE))]\n",
    "pres1981 <- pres1981[, -c(\"nuls\", \"plmdoublon\", \"perpar\", \"year\")]"
   ]
  },
  {
   "cell_type": "markdown",
   "id": "6a6d4ffc-9077-419c-9c7c-11d8de257bb7",
   "metadata": {},
   "source": [
    "<h1>Propriété immobilière</h1>\n",
    "\n",
    "npropri81 = nombre de ménages propriétaires dans la commune  \n",
    "nlogement1981 = nombre total de logements dans la commune (propriétaires, locataires ou logés gratuitement) (résidences principales)  \n",
    "ppropri1981 = proportion de ménages propriétaires de leur logement dans la commune"
   ]
  },
  {
   "cell_type": "code",
   "execution_count": 5,
   "id": "9a617515-af09-4f11-b770-aa9ceaff91df",
   "metadata": {},
   "outputs": [],
   "source": [
    "object_key <- \"/diffusion/Proprietaires/proprietairescommunes.feather\"\n",
    "propri <- aws.s3::s3read_using(\n",
    "  FUN = arrow::read_feather,\n",
    "  object = object_key,\n",
    "  bucket = bucket_name,\n",
    "  opts = list(\"region\" = \"\")\n",
    ")\n",
    "propri <- as.data.table(propri)"
   ]
  },
  {
   "cell_type": "markdown",
   "id": "355f69d4-a50e-4695-8908-877ea8a59e65",
   "metadata": {},
   "source": [
    "<h1>Démographie et géographie</h1>\n",
    "<h2>1. Population</h2>\n",
    "\n",
    "pop1981  \n",
    "popagglo1981"
   ]
  },
  {
   "cell_type": "code",
   "execution_count": 6,
   "id": "f0140e3e-01e9-4758-a9c4-c9a756bf710a",
   "metadata": {},
   "outputs": [],
   "source": [
    "object_key <- \"/diffusion/Taille_agglo_commune/popcommunes.feather\"\n",
    "popul <- aws.s3::s3read_using(\n",
    "  FUN = arrow::read_feather,\n",
    "  object = object_key,\n",
    "  bucket = bucket_name,\n",
    "  opts = list(\"region\" = \"\")\n",
    ")\n",
    "popul <- as.data.table(popul)"
   ]
  },
  {
   "cell_type": "markdown",
   "id": "cc946989-f016-49ad-93c1-a2d2fb27696a",
   "metadata": {},
   "source": [
    "<h2>2. Âge</h2>\n",
    "\n",
    "age1981 = âge moyen de la commune  \n",
    "prop0141981 = proportion de 0-14 ans dans la commune  \n",
    "prop15391981 = proportion de 15-39 ans dans la commune  \n",
    "prop40591981 = proportion de 40-59 ans dans la commune  \n",
    "prop60p1981 = proportion de 60 ans et + dans la commune"
   ]
  },
  {
   "cell_type": "code",
   "execution_count": 7,
   "id": "2c3a2195-45a4-4cb3-8cf7-9513491a6eab",
   "metadata": {},
   "outputs": [],
   "source": [
    "object_key <- \"/diffusion/Age_csp/agesexcommunes.feather\"\n",
    "ages <- aws.s3::s3read_using(\n",
    "  FUN = arrow::read_feather,\n",
    "  object = object_key,\n",
    "  bucket = bucket_name,\n",
    "  opts = list(\"region\" = \"\")\n",
    ")\n",
    "ages <- as.data.table(ages)"
   ]
  },
  {
   "cell_type": "markdown",
   "id": "a229e2e7-712d-4e2b-aae6-a37566571761",
   "metadata": {},
   "source": [
    "<h1>Formation, diplômes, religion </h1>\n",
    "\n",
    "<h2>Diplômes</h2>\n",
    "\n",
    "nodip1981 : nombre total de personnes 25+ sans diplôme ou dont le diplôme le plus élevé est le BEPC, le brevet des collèges, le BEP ou le CAP  \n",
    "bac1981: nombre total de personnes 25+ dont le diplôme le plus élevé est le baccalauréat général ou technologique  \n",
    "sup1981 : nombre total de personnes 25+ diplômées du supérieur  "
   ]
  },
  {
   "cell_type": "code",
   "execution_count": 8,
   "id": "1d90e799-9ca7-4154-94e8-4d1627679567",
   "metadata": {},
   "outputs": [],
   "source": [
    "object_key <- \"/diffusion/Diplomes/diplomescommunes.feather\"\n",
    "diplo <- aws.s3::s3read_using(\n",
    "  FUN = arrow::read_feather,\n",
    "  object = object_key,\n",
    "  bucket = bucket_name,\n",
    "  opts = list(\"region\" = \"\")\n",
    ")\n",
    "diplo <- as.data.table(diplo)\n",
    "\n",
    "# Raporter nodip1981, bac1981 et sup1981 au nombre d'habitants."
   ]
  },
  {
   "cell_type": "markdown",
   "id": "f853f330-3e1a-4378-b0ce-31f50dc5b3b8",
   "metadata": {},
   "source": [
    "<h2>Religiosité</h2>\n",
    "\n",
    "prefract1791 = proportion de prêtres réfractaires en 1791  \n",
    "nclerge1791 = nombre total des prêtres soumis au serment de 1791\n",
    "\n",
    "pclerge1856 : effectifs totaux du clergé (prêtres, religieux, religieuses) exprimés en proportion de la population totale  \n",
    "pmessalisants1950 : effectifs totaux de personnes allant à la messe du dimanche en 1950 en proportion de la population totale"
   ]
  },
  {
   "cell_type": "code",
   "execution_count": 9,
   "id": "5fcdf832-28c6-44f1-847e-955e5c6b9d2e",
   "metadata": {},
   "outputs": [],
   "source": [
    "object_key <- \"/diffusion/Enseignement_prive/religiositecommunes.feather\"\n",
    "religcomm <- aws.s3::s3read_using(\n",
    "  FUN = arrow::read_feather,\n",
    "  object = object_key,\n",
    "  bucket = bucket_name,\n",
    "  opts = list(\"region\" = \"\")\n",
    ")\n",
    "religcomm <- as.data.table(religcomm)\n",
    "\n",
    "# Recodages\n",
    "# nclerge1791 à rapporter à la taille de la population pour avoir une idée de la présence des institutions religieuses dans la commune."
   ]
  },
  {
   "cell_type": "code",
   "execution_count": 10,
   "id": "10571447-74b3-4eac-9ba9-76613bb1e260",
   "metadata": {},
   "outputs": [],
   "source": [
    "object_key <- \"/diffusion/Enseignement_prive/religiositedepartements.feather\"\n",
    "religdep <- aws.s3::s3read_using(\n",
    "  FUN = arrow::read_feather,\n",
    "  object = object_key,\n",
    "  bucket = bucket_name,\n",
    "  opts = list(\"region\" = \"\")\n",
    ")\n",
    "religdep <- as.data.table(religdep)"
   ]
  },
  {
   "cell_type": "markdown",
   "id": "8114363b-7ebc-4506-b375-3db82e66d9f0",
   "metadata": {},
   "source": [
    "<h1>CSP, emplois, professions</h1>\n",
    "\n",
    "pagri1981 = proportion d’agriculteurs parmi les actifs 25-54 ans (=agri/pact)  \n",
    "pindp1981 = proportion d’indépendants (artisans, commerçants, chefs d’entreprises) parmi les actifs 25-54 ans (=indp/pact)  \n",
    "pcadr1981 = proportion de cadres et professions intellectuelles supérieures parmi les actifs 25-54 ans (=cadr/pact)  \n",
    "ppint1981 = proportion de professions intermédiaires parmi les actifs 25-54 ans (=pint/pact)  \n",
    "pempl1981 = proportions d’employés parmi les actifs 25-54 ans (=empl/pact)  \n",
    "pouvr1981 = proportion d’ouvriers parmi les actifs 25-54 ans (=ouvr/pact)  \n",
    "pchom1981 = proportion de chômeurs parmi les actifs 25-54 ans (=chom/pact)"
   ]
  },
  {
   "cell_type": "code",
   "execution_count": 11,
   "id": "85434629-064e-435c-804d-ef42fd937e32",
   "metadata": {},
   "outputs": [],
   "source": [
    "object_key <- \"/diffusion/CSP/cspcommunes.feather\"\n",
    "catsociopro <- aws.s3::s3read_using(\n",
    "  FUN = arrow::read_feather,\n",
    "  object = object_key,\n",
    "  bucket = bucket_name,\n",
    "  opts = list(\"region\" = \"\")\n",
    ")\n",
    "catsociopro <- as.data.table(catsociopro)"
   ]
  },
  {
   "cell_type": "markdown",
   "id": "b7193541-d4c0-429f-bf30-165e155fd7a3",
   "metadata": {},
   "source": [
    "<h1>Nationalités</h1>\n",
    "\n",
    "petranger1981 = proportion de personnes de nationalité étrangère"
   ]
  },
  {
   "cell_type": "code",
   "execution_count": 12,
   "id": "ec20c909-d60c-4d3e-b753-fb614fd60a5f",
   "metadata": {},
   "outputs": [],
   "source": [
    "object_key <- \"/diffusion/Nationalites/etrangerscommunes.feather\"\n",
    "nation <- aws.s3::s3read_using(\n",
    "  FUN = arrow::read_feather,\n",
    "  object = object_key,\n",
    "  bucket = bucket_name,\n",
    "  opts = list(\"region\" = \"\")\n",
    ")\n",
    "nation <- as.data.table(nation)"
   ]
  },
  {
   "cell_type": "markdown",
   "id": "6b96aa79-7fd8-4807-bf1c-201e9db396db",
   "metadata": {},
   "source": [
    "<h1>Productions et revenus</h1>\n",
    "\n",
    "revmoy1981 = revenu moyen par habitant de la commune (exprimé en euros de 2022)"
   ]
  },
  {
   "cell_type": "code",
   "execution_count": 13,
   "id": "701bb6f1-0b4c-4092-a3b0-3f9fd1321b61",
   "metadata": {},
   "outputs": [],
   "source": [
    "object_key <- \"/diffusion/Revenus/revcommunes.feather\"\n",
    "reven <- aws.s3::s3read_using(\n",
    "  FUN = arrow::read_feather,\n",
    "  object = object_key,\n",
    "  bucket = bucket_name,\n",
    "  opts = list(\"region\" = \"\")\n",
    ")\n",
    "reven <- as.data.table(reven)"
   ]
  },
  {
   "cell_type": "markdown",
   "id": "5a48d2d8-e553-4cd7-940b-c4bce7e5abc9",
   "metadata": {},
   "source": [
    "<h1>Construction de la base</h1>"
   ]
  },
  {
   "cell_type": "code",
   "execution_count": 14,
   "id": "eeb89b76-0b8a-4d7b-a846-f58f57508cce",
   "metadata": {},
   "outputs": [],
   "source": [
    "pres1981[propri, c(\"ppropri1981\") :=\n",
    "             .(i.ppropri1981), on = \"codecommune\"]\n",
    "pres1981[popul, c(\"pop1981\", \"popagglo1981\") :=\n",
    "             .(i.pop1981, i.popagglo1981), on = \"codecommune\"]\n",
    "pres1981[ages, c(\"age1981\", \"prop0141981\", \"prop15391981\", \"prop40591981\", \"prop60p1981\") :=\n",
    "             .(i.age1981, i.prop0141981, i.prop15391981, i.prop40591981, i.prop60p1981), on = \"codecommune\"]\n",
    "# Diplômes\n",
    "pres1981[religcomm, c(\"prefract1791\") :=\n",
    "             .(i.prefract1791), on = \"codecommune\"]\n",
    "pres1981[religdep, c(\"pclerge1856\", \"pmessalisants1950\") :=\n",
    "             .(i.pclerge1856, i.pmessalisants1950), on = \"dep\"]\n",
    "pres1981[catsociopro, c(\"pagri1981\", \"pindp1981\", \"pcadr1981\", \"ppint1981\", \"pempl1981\", \"pouvr1981\", \"pchom1981\") :=\n",
    "             .(i.pagri1981, i.pindp1981, i.pcadr1981, i.ppint1981, i.pempl1981, i.pouvr1981, i.pchom1981), on = \"codecommune\"]\n",
    "pres1981[nation, c(\"petranger1981\") :=\n",
    "             .(i.petranger1981), on = \"codecommune\"]\n",
    "pres1981[reven, c(\"revmoy1981\") :=\n",
    "             .(i.revmoy1981), on = \"codecommune\"]"
   ]
  },
  {
   "cell_type": "code",
   "execution_count": 15,
   "id": "6ac93cc4-e1b2-482c-805b-f2aea58b7592",
   "metadata": {},
   "outputs": [],
   "source": [
    "write_feather(pres1981, \"pres1981.feather\")"
   ]
  },
  {
   "cell_type": "code",
   "execution_count": 17,
   "id": "ad63ebd0-35f7-4308-a492-5c5a98fb4b0b",
   "metadata": {},
   "outputs": [
    {
     "name": "stdout",
     "output_type": "stream",
     "text": [
      " [1] \"dep\"               \"codecommune\"       \"plm\"              \n",
      " [4] \"abs\"               \"nulsT2\"            \"absT2\"            \n",
      " [7] \"codecommune2\"      \"dep2\"              \"part\"             \n",
      "[10] \"partT2\"            \"GD_ratio_T1\"       \"GD_ratio_T2\"      \n",
      "[13] \"lib_ratio_T1\"      \"ppropri1981\"       \"pop1981\"          \n",
      "[16] \"popagglo1981\"      \"age1981\"           \"prop0141981\"      \n",
      "[19] \"prop15391981\"      \"prop40591981\"      \"prop60p1981\"      \n",
      "[22] \"prefract1791\"      \"pclerge1856\"       \"pmessalisants1950\"\n",
      "[25] \"pagri1981\"         \"pindp1981\"         \"pcadr1981\"        \n",
      "[28] \"ppint1981\"         \"pempl1981\"         \"pouvr1981\"        \n",
      "[31] \"pchom1981\"         \"petranger1981\"     \"revmoy1981\"       \n"
     ]
    }
   ],
   "source": [
    "print(names(pres1981))"
   ]
  }
 ],
 "metadata": {
  "kernelspec": {
   "display_name": "R",
   "language": "R",
   "name": "ir"
  },
  "language_info": {
   "codemirror_mode": "r",
   "file_extension": ".r",
   "mimetype": "text/x-r-source",
   "name": "R",
   "pygments_lexer": "r",
   "version": "4.3.1"
  }
 },
 "nbformat": 4,
 "nbformat_minor": 5
}
