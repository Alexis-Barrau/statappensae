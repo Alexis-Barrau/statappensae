{
 "cells": [
  {
   "cell_type": "code",
   "execution_count": 1,
   "id": "24d809e7-cbba-481e-b05d-ba675562813a",
   "metadata": {},
   "outputs": [],
   "source": [
    "# Packages\n",
    "install.packages(\"feather\", quiet = TRUE)\n",
    "\n",
    "# Librairies\n",
    "library(data.table)\n",
    "library(feather)"
   ]
  },
  {
   "cell_type": "code",
   "execution_count": 2,
   "id": "87ce1a9b-97fa-4115-9187-933c1e49a1a0",
   "metadata": {},
   "outputs": [],
   "source": [
    "pres1981 <- read_feather(\"pres1981.feather\")"
   ]
  },
  {
   "cell_type": "code",
   "execution_count": 3,
   "id": "2b7c45b5-cbb9-4477-aa33-b3e953fe5423",
   "metadata": {},
   "outputs": [
    {
     "data": {
      "text/plain": [
       "\n",
       "Call:\n",
       "lm(formula = regression_formula, data = pres1981)\n",
       "\n",
       "Residuals:\n",
       "     Min       1Q   Median       3Q      Max \n",
       "-0.78886 -0.02760  0.00305  0.03141  0.20978 \n",
       "\n",
       "Coefficients: (2 not defined because of singularities)\n",
       "                    Estimate Std. Error t value Pr(>|t|)    \n",
       "(Intercept)        9.431e-01  2.641e-02  35.705  < 2e-16 ***\n",
       "ppropri1981        1.251e-02  2.554e-03   4.897 9.80e-07 ***\n",
       "pop1981           -3.311e-07  3.853e-08  -8.593  < 2e-16 ***\n",
       "popagglo1981      -2.408e-09  4.580e-10  -5.258 1.47e-07 ***\n",
       "age1981           -2.588e-03  3.576e-04  -7.238 4.71e-13 ***\n",
       "prop0141981       -1.481e-02  2.351e-02  -0.630 0.528696    \n",
       "prop15391981      -8.349e-02  1.865e-02  -4.476 7.65e-06 ***\n",
       "prop40591981      -2.131e-03  1.114e-02  -0.191 0.848205    \n",
       "prop60p1981               NA         NA      NA       NA    \n",
       "prefract1791       4.213e-02  1.527e-03  27.592  < 2e-16 ***\n",
       "pclerge1856       -1.067e+00  2.840e-01  -3.758 0.000172 ***\n",
       "pmessalisants1950 -2.783e-02  3.000e-03  -9.277  < 2e-16 ***\n",
       "pagri1981         -1.277e-02  2.430e-03  -5.255 1.49e-07 ***\n",
       "pindp1981         -5.371e-02  4.599e-03 -11.678  < 2e-16 ***\n",
       "pcadr1981         -3.621e-02  6.757e-03  -5.360 8.41e-08 ***\n",
       "ppint1981         -2.019e-02  4.187e-03  -4.823 1.43e-06 ***\n",
       "pempl1981         -2.565e-02  4.241e-03  -6.047 1.50e-09 ***\n",
       "pouvr1981                 NA         NA      NA       NA    \n",
       "pchom1981         -2.786e-02  1.029e-02  -2.708 0.006764 ** \n",
       "petranger1981     -6.616e-02  8.590e-03  -7.702 1.39e-14 ***\n",
       "revmoy1981         2.966e-06  1.114e-07  26.631  < 2e-16 ***\n",
       "---\n",
       "Signif. codes:  0 ‘***’ 0.001 ‘**’ 0.01 ‘*’ 0.05 ‘.’ 0.1 ‘ ’ 1\n",
       "\n",
       "Residual standard error: 0.05006 on 22875 degrees of freedom\n",
       "  (12677 observations deleted due to missingness)\n",
       "Multiple R-squared:  0.1256,\tAdjusted R-squared:  0.1249 \n",
       "F-statistic: 182.6 on 18 and 22875 DF,  p-value: < 2.2e-16\n"
      ]
     },
     "metadata": {},
     "output_type": "display_data"
    }
   ],
   "source": [
    "dependent_variable <- \"part\"\n",
    "excluded_covariables <- c(\"dep\", \"codecommune\", \"plm\", \"abs\", \"nulsT2\", \"absT2\", \"codecommune2\", \"dep2\", \"part\", \"partT2\", \"GD_ratio_T1\", \"GD_ratio_T2\", \"lib_ratio_T1\")\n",
    "regression_formula <- as.formula(paste(dependent_variable, \"~\", paste(setdiff(names(pres1981), excluded_covariables), collapse = \"+\")))\n",
    "model <- lm(regression_formula, data = pres1981)\n",
    "summary(model)"
   ]
  },
  {
   "cell_type": "code",
   "execution_count": 7,
   "id": "9771c004-f27b-475e-b420-99c5ac88b274",
   "metadata": {},
   "outputs": [
    {
     "data": {
      "text/plain": [
       "\n",
       "Call:\n",
       "lm(formula = regression_formula, data = pres1981)\n",
       "\n",
       "Residuals:\n",
       "     Min       1Q   Median       3Q      Max \n",
       "-0.46935 -0.07214 -0.00212  0.06914  0.54226 \n",
       "\n",
       "Coefficients: (2 not defined because of singularities)\n",
       "                    Estimate Std. Error t value Pr(>|t|)    \n",
       "(Intercept)        1.442e-01  5.838e-02   2.470 0.013511 *  \n",
       "ppropri1981        9.531e-02  5.645e-03  16.884  < 2e-16 ***\n",
       "pop1981            2.012e-07  8.515e-08   2.362 0.018169 *  \n",
       "popagglo1981       1.387e-09  1.012e-09   1.371 0.170520    \n",
       "age1981            6.748e-03  7.903e-04   8.539  < 2e-16 ***\n",
       "prop0141981        2.432e-01  5.196e-02   4.681 2.87e-06 ***\n",
       "prop15391981       3.076e-01  4.123e-02   7.462 8.85e-14 ***\n",
       "prop40591981       1.734e-01  2.461e-02   7.045 1.91e-12 ***\n",
       "prop60p1981               NA         NA      NA       NA    \n",
       "prefract1791       8.406e-03  3.374e-03   2.491 0.012742 *  \n",
       "pclerge1856       -2.945e+00  6.277e-01  -4.692 2.72e-06 ***\n",
       "pmessalisants1950 -1.885e-01  6.630e-03 -28.436  < 2e-16 ***\n",
       "pagri1981         -1.792e-01  5.371e-03 -33.374  < 2e-16 ***\n",
       "pindp1981         -9.299e-02  1.016e-02  -9.149  < 2e-16 ***\n",
       "pcadr1981         -5.399e-02  1.493e-02  -3.615 0.000301 ***\n",
       "ppint1981          7.772e-02  9.253e-03   8.400  < 2e-16 ***\n",
       "pempl1981          3.380e-02  9.373e-03   3.606 0.000311 ***\n",
       "pouvr1981                 NA         NA      NA       NA    \n",
       "pchom1981          1.469e-01  2.274e-02   6.461 1.06e-10 ***\n",
       "petranger1981      3.028e-01  1.898e-02  15.953  < 2e-16 ***\n",
       "revmoy1981        -8.693e-06  2.462e-07 -35.312  < 2e-16 ***\n",
       "---\n",
       "Signif. codes:  0 ‘***’ 0.001 ‘**’ 0.01 ‘*’ 0.05 ‘.’ 0.1 ‘ ’ 1\n",
       "\n",
       "Residual standard error: 0.1106 on 22875 degrees of freedom\n",
       "  (12677 observations deleted due to missingness)\n",
       "Multiple R-squared:  0.1904,\tAdjusted R-squared:  0.1898 \n",
       "F-statistic: 298.9 on 18 and 22875 DF,  p-value: < 2.2e-16\n"
      ]
     },
     "metadata": {},
     "output_type": "display_data"
    }
   ],
   "source": [
    "dependent_variable <- \"GD_ratio_T1\"\n",
    "excluded_covariables <- c(\"dep\", \"codecommune\", \"plm\", \"abs\", \"nulsT2\", \"absT2\", \"codecommune2\", \"dep2\", \"part\", \"partT2\", \"GD_ratio_T1\", \"GD_ratio_T2\", \"lib_ratio_T1\")\n",
    "regression_formula <- as.formula(paste(dependent_variable, \"~\", paste(setdiff(names(pres1981), excluded_covariables), collapse = \"+\")))\n",
    "model <- lm(regression_formula, data = pres1981)\n",
    "summary(model)"
   ]
  }
 ],
 "metadata": {
  "kernelspec": {
   "display_name": "R",
   "language": "R",
   "name": "ir"
  },
  "language_info": {
   "codemirror_mode": "r",
   "file_extension": ".r",
   "mimetype": "text/x-r-source",
   "name": "R",
   "pygments_lexer": "r",
   "version": "4.3.2"
  }
 },
 "nbformat": 4,
 "nbformat_minor": 5
}
