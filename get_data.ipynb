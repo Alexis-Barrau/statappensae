{
 "cells": [
  {
   "cell_type": "code",
   "execution_count": null,
   "id": "cfbbb963-9d1f-4ab3-b21d-f61aa986abfc",
   "metadata": {
    "scrolled": true,
    "tags": []
   },
   "outputs": [],
   "source": [
    "!pip install git-lfs\n",
    "!pip install pandas pyreadr\n",
    "import pandas as pd\n",
    "import pyreadr\n",
    "import re\n",
    "import requests\n",
    "import os\n",
    "import shutil\n",
    "import zipfile"
   ]
  },
  {
   "cell_type": "code",
   "execution_count": null,
   "id": "2d985eea-8dac-4862-8259-6c69bd078a4e",
   "metadata": {
    "tags": []
   },
   "outputs": [],
   "source": [
    "# Identification des fichiers csv\n",
    "def extract_strings_from_webpage(url):\n",
    "    response = requests.get(url) \n",
    "    if response.status_code == 200:\n",
    "        strings = re.findall(r'\"([^\"]*)\"', response.text)\n",
    "        return strings\n",
    "    else:\n",
    "        print(f\"Failed to fetch the webpage. Status code: {response.status_code}\")\n",
    "        return []\n",
    "\n",
    "webpage_url = \"https://unehistoireduconflitpolitique.fr/telecharger.html\"\n",
    "extracted_strings = extract_strings_from_webpage(webpage_url)\n",
    "\n",
    "download_links = [item for item in extracted_strings if item.endswith(\"csv.zip\") or item.endswith(\"csp.zip\")]"
   ]
  },
  {
   "cell_type": "code",
   "execution_count": null,
   "id": "8d4c34b0-c1f3-414b-a6da-d28b13e0d62f",
   "metadata": {
    "tags": []
   },
   "outputs": [],
   "source": [
    "# Téléchargement des fichiers\n",
    "os.makedirs('data_zip', exist_ok=True)\n",
    "\n",
    "for link in download_links:\n",
    "    try:\n",
    "        file_name = os.path.join('data_zip', os.path.basename(link))\n",
    "        response = requests.get(link)\n",
    "        with open(file_name, 'wb') as file:\n",
    "            file.write(response.content)\n",
    "        print(f\"Downloaded: {file_name}\")\n",
    "    except Exception as e:\n",
    "        print(f\"Error downloading {link}: {e}\")\n",
    "        \n",
    "print(\"Download completed\")"
   ]
  },
  {
   "cell_type": "code",
   "execution_count": null,
   "id": "70623b0e-735c-44c4-ac62-235a2d864224",
   "metadata": {
    "scrolled": true,
    "tags": []
   },
   "outputs": [],
   "source": [
    "# Extraction des résultats électoraux\n",
    "os.makedirs('data_csv/elections/pres', exist_ok=True)\n",
    "os.makedirs('data_csv/elections/leg', exist_ok=True)\n",
    "os.makedirs('data_csv/elections/ref', exist_ok=True)\n",
    "\n",
    "files = os.listdir('data_zip')\n",
    "for prefix in ['pres', 'leg', 'ref']:\n",
    "    for file in files:\n",
    "        if file.startswith(prefix) and file.endswith('.zip'):\n",
    "            zip_file_path = os.path.join('data_zip', file)\n",
    "            prefix_dir = os.path.join('data_csv/elections', prefix)\n",
    "            with zipfile.ZipFile(zip_file_path, 'r') as zip_ref:\n",
    "                for member in zip_ref.infolist():\n",
    "                    if member.filename.lower().endswith('.csv'):\n",
    "                        target_path = os.path.join(prefix_dir, os.path.basename(member.filename))\n",
    "                        with zip_ref.open(member) as source, open(target_path, 'wb') as dest:\n",
    "                            shutil.copyfileobj(source, dest)\n",
    "            print(f\"Extracted CSV files from {file}\")\n",
    "            os.remove(zip_file_path)\n",
    "print(\"Extraction completed.\")"
   ]
  },
  {
   "cell_type": "code",
   "execution_count": null,
   "id": "57b67798-ae14-4c67-8362-ac84341893db",
   "metadata": {
    "tags": []
   },
   "outputs": [],
   "source": [
    "# Nettoyage des résultats électoraux\n",
    "for root, dirs, files in os.walk('data_csv'):\n",
    "    for file_name in files:\n",
    "        if file_name.startswith(\"._\"):\n",
    "            file_path = os.path.join(root, file_name)\n",
    "            try:\n",
    "                os.remove(file_path)\n",
    "                print(f\"Deleted file: {file_path}\")\n",
    "            except Exception as e:\n",
    "                print(f\"Error deleting file {file_path}: {e}\")\n",
    "\n",
    "print(\"Deletion of extra files completed\")\n",
    "\n",
    "os.rename(\"data_csv/elections/pres\", \"data_csv/elections/presidentielles\")\n",
    "os.rename(\"data_csv/elections/leg\", \"data_csv/elections/legislatives\")\n",
    "os.rename(\"data_csv/elections/ref\", \"data_csv/elections/referendums\")\n",
    "\n",
    "print(\"Folder renaming completed\")"
   ]
  },
  {
   "cell_type": "code",
   "execution_count": null,
   "id": "03631bf7-83c5-4028-9641-4be7dbbef278",
   "metadata": {
    "tags": []
   },
   "outputs": [],
   "source": [
    "# Extraction des contrôles\n",
    "os.makedirs('data_csv/controles', exist_ok=True)\n",
    "\n",
    "zip_files = [f for f in os.listdir('data_zip') if f.endswith('.zip')]\n",
    "for zip_file in zip_files:\n",
    "    if zip_file.startswith(('pres', 'leg', 'ref')):\n",
    "        continue\n",
    "    zip_path = os.path.join('data_zip', zip_file)\n",
    "    try:\n",
    "        with zipfile.ZipFile(zip_path, 'r') as zip_ref:\n",
    "            file_list = [file for file in zip_ref.namelist() if not file.startswith('__MACOSX')]\n",
    "            zip_ref.extractall('data_csv/controles', members=file_list)    \n",
    "            print(f\"Files extracted from {zip_file}:\")\n",
    "            for extracted_file in file_list:\n",
    "                print(extracted_file)\n",
    "    except Exception as e:\n",
    "        print(f\"Error extracting {zip_file}: {e}\")\n",
    "\n",
    "print(\"Extraction complete.\")"
   ]
  },
  {
   "cell_type": "code",
   "execution_count": null,
   "id": "3b176d10-13b9-40bc-9840-658e077d994d",
   "metadata": {
    "tags": []
   },
   "outputs": [],
   "source": [
    "# Nettoyage des contrôles\n",
    "folders = [f for f in os.listdir('data_csv/controles') if os.path.isdir(os.path.join('data_csv/controles', f))]\n",
    "for folder in folders:\n",
    "    if folder.endswith('_csv'):\n",
    "        old_path = os.path.join('data_csv/controles', folder)\n",
    "        new_folder_name = folder[:-4]\n",
    "        new_path = os.path.join('data_csv/controles', new_folder_name)\n",
    "        os.rename(old_path, new_path)\n",
    "        print(f\"Renamed: {folder} -> {new_folder_name}\")\n",
    "        \n",
    "print(\"Folder renaming complete.\")"
   ]
  },
  {
   "cell_type": "code",
   "execution_count": null,
   "id": "6e13b964-b7fd-4290-a412-e1b0670c9aae",
   "metadata": {},
   "outputs": [],
   "source": [
    "shutil.rmtree('data_zip')\n",
    "print('Downloaded data removed.')"
   ]
  },
  {
   "cell_type": "code",
   "execution_count": null,
   "id": "b0ec257c-576c-4e4e-99c0-d008729b5026",
   "metadata": {
    "tags": []
   },
   "outputs": [],
   "source": [
    "# Conversion au format R\n",
    "def csv_to_rda(input_csv_path, output_rda_path):\n",
    "    data = pd.read_csv(input_csv_path, low_memory=False, encoding='latin1')\n",
    "    pyreadr.write_rdata(output_rda_path, data, compress='gzip')\n",
    "    os.remove(input_csv_path)\n",
    "    print(f\"Converted file: {input_csv_path}\")\n",
    "\n",
    "def convert_csv_files(input_folder, output_folder):\n",
    "    for root, dirs, files in os.walk(input_folder):\n",
    "        for file in files:\n",
    "            if file.endswith(\".csv\"):\n",
    "                input_csv_path = os.path.join(root, file)\n",
    "                relative_path = os.path.relpath(input_csv_path, input_folder)\n",
    "                output_rda_path = os.path.join(output_folder, os.path.splitext(relative_path)[0] + \".rda\")\n",
    "                os.makedirs(os.path.dirname(output_rda_path), exist_ok=True)\n",
    "                csv_to_rda(input_csv_path, output_rda_path)\n",
    "\n",
    "if __name__ == \"__main__\":\n",
    "    input_folder = \"data_csv\"\n",
    "    output_folder = \"data_rda\"\n",
    "    convert_csv_files(input_folder, output_folder)"
   ]
  },
  {
   "cell_type": "code",
   "execution_count": null,
   "id": "1c4a9a07-f119-47c9-b421-7a2567e5ef51",
   "metadata": {},
   "outputs": [],
   "source": [
    "shutil.rmtree('data_csv')\n",
    "print('Extracted data removed.')"
   ]
  }
 ],
 "metadata": {
  "kernelspec": {
   "display_name": "Python 3 (ipykernel)",
   "language": "python",
   "name": "python3"
  },
  "language_info": {
   "codemirror_mode": {
    "name": "ipython",
    "version": 3
   },
   "file_extension": ".py",
   "mimetype": "text/x-python",
   "name": "python",
   "nbconvert_exporter": "python",
   "pygments_lexer": "ipython3",
   "version": "3.10.13"
  }
 },
 "nbformat": 4,
 "nbformat_minor": 5
}
