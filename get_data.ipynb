{
 "cells": [
  {
   "cell_type": "code",
   "execution_count": null,
   "id": "9a99fac4-389b-4284-808a-ae65fcf7ba78",
   "metadata": {},
   "outputs": [],
   "source": [
    "import requests\n",
    "import re\n",
    "import os\n",
    "import zipfile\n",
    "import shutil"
   ]
  },
  {
   "cell_type": "code",
   "execution_count": null,
   "id": "67366089-6e44-453d-97ea-8098a8350e59",
   "metadata": {},
   "outputs": [],
   "source": [
    "# Liste des fichiers csv\n",
    "def extract_strings_from_webpage(url):\n",
    "    response = requests.get(url) \n",
    "    if response.status_code == 200:\n",
    "        strings = re.findall(r'\"([^\"]*)\"', response.text)\n",
    "        return strings\n",
    "    else:\n",
    "        print(f\"Failed to fetch the webpage. Status code: {response.status_code}\")\n",
    "        return []\n",
    "\n",
    "webpage_url = \"https://unehistoireduconflitpolitique.fr/telecharger.html\"  # Replace with the URL of the webpage you want to extract strings from\n",
    "extracted_strings = extract_strings_from_webpage(webpage_url)\n",
    "download_links = [item for item in extracted_strings if item.endswith(\"csv.zip\") or item.endswith(\"csp.zip\")]"
   ]
  },
  {
   "cell_type": "code",
   "execution_count": null,
   "id": "20705cda-df3b-4df7-98df-0a6db9dd82dc",
   "metadata": {},
   "outputs": [],
   "source": [
    "# Téléchargement des fichiers\n",
    "if not os.path.exists('data_download'):\n",
    "    os.makedirs('data_download')\n",
    "\n",
    "for link in download_links:\n",
    "    try:\n",
    "        file_name = os.path.join('data_download', os.path.basename(link))\n",
    "        response = requests.get(link)\n",
    "        with open(file_name, 'wb') as file:\n",
    "            file.write(response.content)\n",
    "        print(f\"Downloaded: {file_name}\")\n",
    "    except Exception as e:\n",
    "        print(f\"Error downloading {link}: {e}\")"
   ]
  },
  {
   "cell_type": "code",
   "execution_count": null,
   "id": "4ebc5a42-b306-4e6a-b32f-c88398b74c9f",
   "metadata": {},
   "outputs": [],
   "source": [
    "# Extraction des résultats électoraux\n",
    "os.makedirs('data_extraction/pres', exist_ok=True)\n",
    "os.makedirs('data_extraction/leg', exist_ok=True)\n",
    "os.makedirs('data_extraction/ref', exist_ok=True)\n",
    "\n",
    "files = os.listdir('data_download')\n",
    "for prefix in ['pres', 'leg', 'ref']:\n",
    "    for file in files:\n",
    "        if file.startswith(prefix) and file.endswith('.zip'):\n",
    "            zip_file_path = os.path.join('data_download', file)\n",
    "            prefix_dir = os.path.join('data_extraction', prefix)\n",
    "            with zipfile.ZipFile(zip_file_path, 'r') as zip_ref:\n",
    "                for member in zip_ref.infolist():\n",
    "                    if member.filename.lower().endswith('.csv'):\n",
    "                        target_path = os.path.join(prefix_dir, os.path.basename(member.filename))\n",
    "                        with zip_ref.open(member) as source, open(target_path, 'wb') as dest:\n",
    "                            shutil.copyfileobj(source, dest)\n",
    "            print(f\"Extracted CSV files from {file} to {prefix_dir}\")\n",
    "print(\"Extraction completed.\")"
   ]
  },
  {
   "cell_type": "code",
   "execution_count": null,
   "id": "8891c1e5-f6a5-434f-b587-305f8f5cde6f",
   "metadata": {},
   "outputs": [],
   "source": [
    "# Extraction des contrôles\n",
    "os.makedirs('data_extraction/controles', exist_ok=True)\n",
    "\n",
    "zip_files = [f for f in os.listdir('data_download') if f.endswith('.zip')]\n",
    "for zip_file in zip_files:\n",
    "    if zip_file.startswith(('pres', 'leg', 'ref')):\n",
    "        continue\n",
    "    zip_path = os.path.join('data_download', zip_file)\n",
    "    try:\n",
    "        with zipfile.ZipFile(zip_path, 'r') as zip_ref:\n",
    "            file_list = [file for file in zip_ref.namelist() if not file.startswith('__MACOSX')]\n",
    "            zip_ref.extractall('data_extraction/controles', members=file_list)\n",
    "    except Exception as e:\n",
    "        print(f\"Error extracting {zip_file}: {e}\")\n",
    "\n",
    "print(\"Extraction complete.\")"
   ]
  },
  {
   "cell_type": "code",
   "execution_count": null,
   "id": "4f013268-c63d-46da-a591-fb7e6da8ea92",
   "metadata": {},
   "outputs": [],
   "source": [
    "# Nettoyage du répertoire des contrôles\n",
    "folders = [f for f in os.listdir('data_extraction/controles') if os.path.isdir(os.path.join('data_extraction/controles', f))]\n",
    "for folder in folders:\n",
    "    if folder.endswith('_csv'):\n",
    "        old_path = os.path.join('data_extraction/controles', folder)\n",
    "        new_folder_name = folder[:-4]  # Remove the last 4 characters ('_csv')\n",
    "        new_path = os.path.join('data_extraction/controles', new_folder_name)\n",
    "        os.rename(old_path, new_path)\n",
    "        print(f\"Renamed: {folder} -> {new_folder_name}\")\n",
    "print(\"Folder renaming complete.\")"
   ]
  },
  {
   "cell_type": "code",
   "execution_count": null,
   "id": "91a90ad7-a14a-4d95-957b-c4493d8ab6c2",
   "metadata": {},
   "outputs": [],
   "source": [
    "shutil.rmtree('data_download')\n",
    "print('Data download directory removed.')"
   ]
  }
 ],
 "metadata": {
  "kernelspec": {
   "display_name": "Python 3 (ipykernel)",
   "language": "python",
   "name": "python3"
  },
  "language_info": {
   "codemirror_mode": {
    "name": "ipython",
    "version": 3
   },
   "file_extension": ".py",
   "mimetype": "text/x-python",
   "name": "python",
   "nbconvert_exporter": "python",
   "pygments_lexer": "ipython3",
   "version": "3.10.13"
  }
 },
 "nbformat": 4,
 "nbformat_minor": 5
}
