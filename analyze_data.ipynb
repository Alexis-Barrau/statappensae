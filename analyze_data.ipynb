{
 "cells": [
  {
   "cell_type": "code",
   "execution_count": 1,
   "id": "24d809e7-cbba-481e-b05d-ba675562813a",
   "metadata": {},
   "outputs": [],
   "source": [
    "# Packages\n",
    "install.packages(\"feather\", quiet = TRUE)\n",
    "\n",
    "# Librairies\n",
    "library(data.table)\n",
    "library(feather)"
   ]
  },
  {
   "cell_type": "code",
   "execution_count": 2,
   "id": "87ce1a9b-97fa-4115-9187-933c1e49a1a0",
   "metadata": {},
   "outputs": [],
   "source": [
    "pres1981 <- read_feather(\"pres1981.feather\")"
   ]
  },
  {
   "cell_type": "code",
   "execution_count": 3,
   "id": "2b7c45b5-cbb9-4477-aa33-b3e953fe5423",
   "metadata": {},
   "outputs": [
    {
     "data": {
      "text/plain": [
       "\n",
       "Call:\n",
       "lm(formula = regression_formula, data = pres1981)\n",
       "\n",
       "Residuals:\n",
       "     Min       1Q   Median       3Q      Max \n",
       "-0.78886 -0.02760  0.00305  0.03141  0.20978 \n",
       "\n",
       "Coefficients: (2 not defined because of singularities)\n",
       "                    Estimate Std. Error t value Pr(>|t|)    \n",
       "(Intercept)        9.431e-01  2.641e-02  35.705  < 2e-16 ***\n",
       "ppropri1981        1.251e-02  2.554e-03   4.897 9.80e-07 ***\n",
       "pop1981           -3.311e-07  3.853e-08  -8.593  < 2e-16 ***\n",
       "popagglo1981      -2.408e-09  4.580e-10  -5.258 1.47e-07 ***\n",
       "age1981           -2.588e-03  3.576e-04  -7.238 4.71e-13 ***\n",
       "prop0141981       -1.481e-02  2.351e-02  -0.630 0.528696    \n",
       "prop15391981      -8.349e-02  1.865e-02  -4.476 7.65e-06 ***\n",
       "prop40591981      -2.131e-03  1.114e-02  -0.191 0.848205    \n",
       "prop60p1981               NA         NA      NA       NA    \n",
       "prefract1791       4.213e-02  1.527e-03  27.592  < 2e-16 ***\n",
       "pclerge1856       -1.067e+00  2.840e-01  -3.758 0.000172 ***\n",
       "pmessalisants1950 -2.783e-02  3.000e-03  -9.277  < 2e-16 ***\n",
       "pagri1981         -1.277e-02  2.430e-03  -5.255 1.49e-07 ***\n",
       "pindp1981         -5.371e-02  4.599e-03 -11.678  < 2e-16 ***\n",
       "pcadr1981         -3.621e-02  6.757e-03  -5.360 8.41e-08 ***\n",
       "ppint1981         -2.019e-02  4.187e-03  -4.823 1.43e-06 ***\n",
       "pempl1981         -2.565e-02  4.241e-03  -6.047 1.50e-09 ***\n",
       "pouvr1981                 NA         NA      NA       NA    \n",
       "pchom1981         -2.786e-02  1.029e-02  -2.708 0.006764 ** \n",
       "petranger1981     -6.616e-02  8.590e-03  -7.702 1.39e-14 ***\n",
       "revmoy1981         2.966e-06  1.114e-07  26.631  < 2e-16 ***\n",
       "---\n",
       "Signif. codes:  0 ‘***’ 0.001 ‘**’ 0.01 ‘*’ 0.05 ‘.’ 0.1 ‘ ’ 1\n",
       "\n",
       "Residual standard error: 0.05006 on 22875 degrees of freedom\n",
       "  (12677 observations deleted due to missingness)\n",
       "Multiple R-squared:  0.1256,\tAdjusted R-squared:  0.1249 \n",
       "F-statistic: 182.6 on 18 and 22875 DF,  p-value: < 2.2e-16\n"
      ]
     },
     "metadata": {},
     "output_type": "display_data"
    }
   ],
   "source": [
    "dependent_variable <- \"part\"\n",
    "excluded_covariables <- c(\"dep\", \"codecommune\", \"plm\", \"abs\", \"nulsT2\", \"absT2\", \"codecommune2\", \"dep2\", \"part\", \"partT2\", \"GD_ratio_T1\", \"GD_ratio_T2\", \"lib_ratio_T1\")\n",
    "regression_formula <- as.formula(paste(dependent_variable, \"~\", paste(setdiff(names(pres1981), excluded_covariables), collapse = \"+\")))\n",
    "model <- lm(regression_formula, data = pres1981)\n",
    "summary(model)"
   ]
  }
 ],
 "metadata": {
  "kernelspec": {
   "display_name": "R",
   "language": "R",
   "name": "ir"
  },
  "language_info": {
   "codemirror_mode": "r",
   "file_extension": ".r",
   "mimetype": "text/x-r-source",
   "name": "R",
   "pygments_lexer": "r",
   "version": "4.3.2"
  }
 },
 "nbformat": 4,
 "nbformat_minor": 5
}
